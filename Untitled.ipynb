{
 "cells": [
  {
   "cell_type": "code",
   "execution_count": 18,
   "id": "68d57054-e434-436d-82a3-d802b8b57515",
   "metadata": {},
   "outputs": [],
   "source": [
    "import glob\n",
    "import pandas as pd\n",
    "import numpy as np\n",
    "import geopandas as gpd\n",
    "import re\n",
    "import datetime\n",
    "import jenkspy\n"
   ]
  },
  {
   "cell_type": "code",
   "execution_count": 2,
   "id": "ad94451c-d84a-4fbc-94f5-94007dfdc8da",
   "metadata": {},
   "outputs": [],
   "source": [
    "# Load base map shapefile\n",
    "#base_map = gpd.read_file(\"assets/India_states2023/Admin2.shp\")\n",
    "base_map = gpd.read_file(\"assets/philippines_adm0/philippines_adm0.shp\")\n",
    "base_map['common'] = 'c'\n",
    "boundary = base_map.dissolve('common')\n",
    "boundary = boundary.set_crs('EPSG:4326')\n",
    "boundary.drop(['Maille'],axis=1,inplace=True)"
   ]
  },
  {
   "cell_type": "code",
   "execution_count": 3,
   "id": "9c2267d8-8819-4c27-a9f0-3984cf47f65f",
   "metadata": {},
   "outputs": [],
   "source": [
    "#grids = gpd.read_file('assets/india_grid/grids-0.1x0.1deg/grids_india.shp')\n",
    "grids = gpd.read_file(\"assets/grids_philippines/00.grids/grids_philippines.shp\")\n",
    "\n",
    "grids = grids.set_crs('EPSG:4326')"
   ]
  },
  {
   "cell_type": "code",
   "execution_count": 4,
   "id": "7a83f9c8-1fba-49a9-996a-ba654c16cb8f",
   "metadata": {},
   "outputs": [
    {
     "data": {
      "text/html": [
       "<div>\n",
       "<style scoped>\n",
       "    .dataframe tbody tr th:only-of-type {\n",
       "        vertical-align: middle;\n",
       "    }\n",
       "\n",
       "    .dataframe tbody tr th {\n",
       "        vertical-align: top;\n",
       "    }\n",
       "\n",
       "    .dataframe thead th {\n",
       "        text-align: right;\n",
       "    }\n",
       "</style>\n",
       "<table border=\"1\" class=\"dataframe\">\n",
       "  <thead>\n",
       "    <tr style=\"text-align: right;\">\n",
       "      <th></th>\n",
       "      <th>Maille</th>\n",
       "      <th>Maille_Y</th>\n",
       "      <th>Maille_X</th>\n",
       "      <th>X</th>\n",
       "      <th>Y</th>\n",
       "      <th>X1</th>\n",
       "      <th>Y1</th>\n",
       "      <th>X2</th>\n",
       "      <th>Y2</th>\n",
       "      <th>area_cell</th>\n",
       "      <th>geometry</th>\n",
       "    </tr>\n",
       "  </thead>\n",
       "  <tbody>\n",
       "    <tr>\n",
       "      <th>0</th>\n",
       "      <td>1</td>\n",
       "      <td>1</td>\n",
       "      <td>1</td>\n",
       "      <td>118.0500</td>\n",
       "      <td>5.0500</td>\n",
       "      <td>118.0000</td>\n",
       "      <td>5.0000</td>\n",
       "      <td>118.1000</td>\n",
       "      <td>5.1000</td>\n",
       "      <td>123.4456</td>\n",
       "      <td>POLYGON ((118.00000 5.10000, 118.10000 5.10000...</td>\n",
       "    </tr>\n",
       "    <tr>\n",
       "      <th>1</th>\n",
       "      <td>2</td>\n",
       "      <td>1</td>\n",
       "      <td>2</td>\n",
       "      <td>118.1500</td>\n",
       "      <td>5.0500</td>\n",
       "      <td>118.1000</td>\n",
       "      <td>5.0000</td>\n",
       "      <td>118.2000</td>\n",
       "      <td>5.1000</td>\n",
       "      <td>123.4087</td>\n",
       "      <td>POLYGON ((118.10000 5.10000, 118.20000 5.10000...</td>\n",
       "    </tr>\n",
       "    <tr>\n",
       "      <th>2</th>\n",
       "      <td>3</td>\n",
       "      <td>1</td>\n",
       "      <td>3</td>\n",
       "      <td>118.2500</td>\n",
       "      <td>5.0500</td>\n",
       "      <td>118.2000</td>\n",
       "      <td>5.0000</td>\n",
       "      <td>118.3000</td>\n",
       "      <td>5.1000</td>\n",
       "      <td>123.3726</td>\n",
       "      <td>POLYGON ((118.20000 5.10000, 118.30000 5.10000...</td>\n",
       "    </tr>\n",
       "    <tr>\n",
       "      <th>3</th>\n",
       "      <td>4</td>\n",
       "      <td>1</td>\n",
       "      <td>4</td>\n",
       "      <td>118.3500</td>\n",
       "      <td>5.0500</td>\n",
       "      <td>118.3000</td>\n",
       "      <td>5.0000</td>\n",
       "      <td>118.4000</td>\n",
       "      <td>5.1000</td>\n",
       "      <td>123.3373</td>\n",
       "      <td>POLYGON ((118.30000 5.10000, 118.40000 5.10000...</td>\n",
       "    </tr>\n",
       "    <tr>\n",
       "      <th>4</th>\n",
       "      <td>5</td>\n",
       "      <td>1</td>\n",
       "      <td>5</td>\n",
       "      <td>118.4500</td>\n",
       "      <td>5.0500</td>\n",
       "      <td>118.4000</td>\n",
       "      <td>5.0000</td>\n",
       "      <td>118.5000</td>\n",
       "      <td>5.1000</td>\n",
       "      <td>123.3027</td>\n",
       "      <td>POLYGON ((118.40000 5.10000, 118.50000 5.10000...</td>\n",
       "    </tr>\n",
       "    <tr>\n",
       "      <th>...</th>\n",
       "      <td>...</td>\n",
       "      <td>...</td>\n",
       "      <td>...</td>\n",
       "      <td>...</td>\n",
       "      <td>...</td>\n",
       "      <td>...</td>\n",
       "      <td>...</td>\n",
       "      <td>...</td>\n",
       "      <td>...</td>\n",
       "      <td>...</td>\n",
       "      <td>...</td>\n",
       "    </tr>\n",
       "    <tr>\n",
       "      <th>14995</th>\n",
       "      <td>14996</td>\n",
       "      <td>150</td>\n",
       "      <td>96</td>\n",
       "      <td>127.5500</td>\n",
       "      <td>19.9500</td>\n",
       "      <td>127.5000</td>\n",
       "      <td>19.9000</td>\n",
       "      <td>127.6000</td>\n",
       "      <td>20.0000</td>\n",
       "      <td>116.4433</td>\n",
       "      <td>POLYGON ((127.50000 20.00000, 127.60000 20.000...</td>\n",
       "    </tr>\n",
       "    <tr>\n",
       "      <th>14996</th>\n",
       "      <td>14997</td>\n",
       "      <td>150</td>\n",
       "      <td>97</td>\n",
       "      <td>127.6500</td>\n",
       "      <td>19.9500</td>\n",
       "      <td>127.6000</td>\n",
       "      <td>19.9000</td>\n",
       "      <td>127.7000</td>\n",
       "      <td>20.0000</td>\n",
       "      <td>116.4724</td>\n",
       "      <td>POLYGON ((127.60000 20.00000, 127.70000 20.000...</td>\n",
       "    </tr>\n",
       "    <tr>\n",
       "      <th>14997</th>\n",
       "      <td>14998</td>\n",
       "      <td>150</td>\n",
       "      <td>98</td>\n",
       "      <td>127.7500</td>\n",
       "      <td>19.9500</td>\n",
       "      <td>127.7000</td>\n",
       "      <td>19.9000</td>\n",
       "      <td>127.8000</td>\n",
       "      <td>20.0000</td>\n",
       "      <td>116.5021</td>\n",
       "      <td>POLYGON ((127.70000 20.00000, 127.80000 20.000...</td>\n",
       "    </tr>\n",
       "    <tr>\n",
       "      <th>14998</th>\n",
       "      <td>14999</td>\n",
       "      <td>150</td>\n",
       "      <td>99</td>\n",
       "      <td>127.8500</td>\n",
       "      <td>19.9500</td>\n",
       "      <td>127.8000</td>\n",
       "      <td>19.9000</td>\n",
       "      <td>127.9000</td>\n",
       "      <td>20.0000</td>\n",
       "      <td>116.5324</td>\n",
       "      <td>POLYGON ((127.80000 20.00000, 127.90000 20.000...</td>\n",
       "    </tr>\n",
       "    <tr>\n",
       "      <th>14999</th>\n",
       "      <td>15000</td>\n",
       "      <td>150</td>\n",
       "      <td>100</td>\n",
       "      <td>127.9500</td>\n",
       "      <td>19.9500</td>\n",
       "      <td>127.9000</td>\n",
       "      <td>19.9000</td>\n",
       "      <td>128.0000</td>\n",
       "      <td>20.0000</td>\n",
       "      <td>116.5634</td>\n",
       "      <td>POLYGON ((127.90000 20.00000, 128.00000 20.000...</td>\n",
       "    </tr>\n",
       "  </tbody>\n",
       "</table>\n",
       "<p>15000 rows × 11 columns</p>\n",
       "</div>"
      ],
      "text/plain": [
       "       Maille  Maille_Y  Maille_X         X        Y        X1       Y1  \\\n",
       "0           1         1         1  118.0500   5.0500  118.0000   5.0000   \n",
       "1           2         1         2  118.1500   5.0500  118.1000   5.0000   \n",
       "2           3         1         3  118.2500   5.0500  118.2000   5.0000   \n",
       "3           4         1         4  118.3500   5.0500  118.3000   5.0000   \n",
       "4           5         1         5  118.4500   5.0500  118.4000   5.0000   \n",
       "...       ...       ...       ...       ...      ...       ...      ...   \n",
       "14995   14996       150        96  127.5500  19.9500  127.5000  19.9000   \n",
       "14996   14997       150        97  127.6500  19.9500  127.6000  19.9000   \n",
       "14997   14998       150        98  127.7500  19.9500  127.7000  19.9000   \n",
       "14998   14999       150        99  127.8500  19.9500  127.8000  19.9000   \n",
       "14999   15000       150       100  127.9500  19.9500  127.9000  19.9000   \n",
       "\n",
       "             X2       Y2 area_cell  \\\n",
       "0      118.1000   5.1000  123.4456   \n",
       "1      118.2000   5.1000  123.4087   \n",
       "2      118.3000   5.1000  123.3726   \n",
       "3      118.4000   5.1000  123.3373   \n",
       "4      118.5000   5.1000  123.3027   \n",
       "...         ...      ...       ...   \n",
       "14995  127.6000  20.0000  116.4433   \n",
       "14996  127.7000  20.0000  116.4724   \n",
       "14997  127.8000  20.0000  116.5021   \n",
       "14998  127.9000  20.0000  116.5324   \n",
       "14999  128.0000  20.0000  116.5634   \n",
       "\n",
       "                                                geometry  \n",
       "0      POLYGON ((118.00000 5.10000, 118.10000 5.10000...  \n",
       "1      POLYGON ((118.10000 5.10000, 118.20000 5.10000...  \n",
       "2      POLYGON ((118.20000 5.10000, 118.30000 5.10000...  \n",
       "3      POLYGON ((118.30000 5.10000, 118.40000 5.10000...  \n",
       "4      POLYGON ((118.40000 5.10000, 118.50000 5.10000...  \n",
       "...                                                  ...  \n",
       "14995  POLYGON ((127.50000 20.00000, 127.60000 20.000...  \n",
       "14996  POLYGON ((127.60000 20.00000, 127.70000 20.000...  \n",
       "14997  POLYGON ((127.70000 20.00000, 127.80000 20.000...  \n",
       "14998  POLYGON ((127.80000 20.00000, 127.90000 20.000...  \n",
       "14999  POLYGON ((127.90000 20.00000, 128.00000 20.000...  \n",
       "\n",
       "[15000 rows x 11 columns]"
      ]
     },
     "execution_count": 4,
     "metadata": {},
     "output_type": "execute_result"
    }
   ],
   "source": [
    "grids"
   ]
  },
  {
   "cell_type": "code",
   "execution_count": 5,
   "id": "a9626fad-5a99-440a-903f-4ac957af43f7",
   "metadata": {},
   "outputs": [],
   "source": [
    "grids_df_masked = gpd.sjoin(grids, boundary, predicate='within') "
   ]
  },
  {
   "cell_type": "code",
   "execution_count": 85,
   "id": "5e371f79-5af9-4599-887e-8f7cc875b1c8",
   "metadata": {},
   "outputs": [],
   "source": [
    "csvs = glob.glob('data/PHILIPPINES_UVAI_regridded_yearly/*.csv')"
   ]
  },
  {
   "cell_type": "code",
   "execution_count": 100,
   "id": "d073238e-8b3d-40c9-ac56-0c6ca903f5a8",
   "metadata": {},
   "outputs": [],
   "source": [
    "l = []\n",
    "for csv in csvs:\n",
    "    df = pd.read_csv(csv)\n",
    "    df = df[df['Maille'].isin(grids_df_masked.Maille.to_list())]\n",
    "    k = df['value'].to_list()\n",
    "    l.append(k)"
   ]
  },
  {
   "cell_type": "code",
   "execution_count": 101,
   "id": "057046b0-1e7d-4fe0-beb3-29c18a472575",
   "metadata": {},
   "outputs": [],
   "source": [
    "numbers = np.array(l).flatten()\n",
    "numbers = [x for x in numbers if x != 0]"
   ]
  },
  {
   "cell_type": "code",
   "execution_count": 114,
   "id": "ca728476-3077-43c4-8048-847b6f0c197e",
   "metadata": {
    "scrolled": true
   },
   "outputs": [
    {
     "data": {
      "text/plain": [
       "-0.04379155146001823"
      ]
     },
     "execution_count": 114,
     "metadata": {},
     "output_type": "execute_result"
    }
   ],
   "source": [
    "np.array(numbers).max()\n",
    "mean = np.array(numbers).mean()\n",
    "std = np.array(numbers).std()\n",
    "(mean+3*std)"
   ]
  },
  {
   "cell_type": "code",
   "execution_count": 105,
   "id": "61677437-d6d6-4a9a-b6f4-a4c2e6874c44",
   "metadata": {},
   "outputs": [
    {
     "data": {
      "text/plain": [
       "[-2.174538604179423,\n",
       " -1.6261919670549596,\n",
       " -1.408907055700394,\n",
       " -1.1842559200411784,\n",
       " -0.9382684267557844,\n",
       " -0.7171983624617635,\n",
       " -0.0618926965432675]"
      ]
     },
     "execution_count": 105,
     "metadata": {},
     "output_type": "execute_result"
    }
   ],
   "source": [
    "breaks = jenkspy.jenks_breaks(numbers, 6)\n",
    "breaks"
   ]
  },
  {
   "cell_type": "code",
   "execution_count": 14,
   "id": "c2dd0bc2-ab10-405c-bb8e-7e1ef8f6d65d",
   "metadata": {},
   "outputs": [
    {
     "data": {
      "text/plain": [
       "0.00012193975930938799"
      ]
     },
     "execution_count": 14,
     "metadata": {},
     "output_type": "execute_result"
    }
   ],
   "source": [
    "std"
   ]
  },
  {
   "cell_type": "code",
   "execution_count": 48,
   "id": "a1543a8c-582f-4fbb-baf8-e8603d7fe460",
   "metadata": {},
   "outputs": [],
   "source": [
    "l = []\n",
    "def str_month_to_abbreviation(month_str):\n",
    "    # Convert the string month to an integer\n",
    "    month_int = int(month_str)\n",
    "\n",
    "    # Convert the integer month to a datetime object\n",
    "    date_obj = datetime.datetime.strptime(str(month_int), \"%m\")\n",
    "\n",
    "    # Format the datetime object to get the three-letter month abbreviation\n",
    "    month_abbreviation = date_obj.strftime(\"%b\")\n",
    "\n",
    "    return month_abbreviation\n",
    "\n",
    "\n",
    "for csv in csvs:\n",
    "    year = re.findall(r'\\d{4}', csv)[0]\n",
    "    month = re.findall(r'\\d{2}', csv)[2]\n",
    "    month_str = str_month_to_abbreviation(month).upper()\n",
    "    df = pd.read_csv(csv)\n",
    "    df = df[df['Maille'].isin(grids_df_masked.Maille.to_list())]\n",
    "    k = df['value'].to_list()\n",
    "    numbers = np.array(k).flatten()\n",
    "    #l.append(k)\n",
    "    fig, ax = plt.subplots(figsize=(10, 6))\n",
    "    counts, bins, patches = plt.hist(numbers, bins=100)\n",
    "    ax.set_xlim(-3, 3)\n",
    "    ax.set_ylim(0, 80)\n",
    "\n",
    "    colormap = plt.cm.coolwarm  # You can choose other colormaps like plt.cm.plasma, plt.cm.inferno, etc.\n",
    "\n",
    "    # Normalize bin heights to range between 0 and 1\n",
    "    norm = plt.Normalize(0, 100)\n",
    "    \n",
    "    # Apply the colormap to each patch (bar)\n",
    "    # for count, patch in zip(counts, patches):\n",
    "    #     color = colormap(norm(count))\n",
    "    #     patch.set_facecolor(color)\n",
    "\n",
    "    # Apply the colormap to each patch (bar) based on bin position\n",
    "    for i, patch in enumerate(patches):\n",
    "        color = colormap(norm(i))\n",
    "        patch.set_facecolor(color)\n",
    "\n",
    "\n",
    "\n",
    "        # Add year - month annotation\n",
    "    bbox_props = dict(boxstyle=\"square,pad=0.3\", fc=\"white\", ec=\"black\", lw=1)\n",
    "    plt.text(-2.2, 75, #Choose Lat Long coords\n",
    "             '{}-{}'.format(year, month_str),\n",
    "             fontsize=20, fontweight='bold', color='black',\n",
    "             ha='center', va='center',\n",
    "             bbox=bbox_props)\n",
    "\n",
    "    plt.xticks(fontweight='bold', fontsize=10)\n",
    "    plt.yticks(fontweight='bold', fontsize=10)\n",
    "    plt.savefig('hists/hist_{}_{}.png'.format(year, month))\n",
    "    plt.close()"
   ]
  },
  {
   "cell_type": "code",
   "execution_count": 23,
   "id": "2d122c44-41c1-4a0b-900b-ea4f8b767a02",
   "metadata": {},
   "outputs": [
    {
     "data": {
      "image/png": "[encoded data removed]",
      "text/plain": [
       "<Figure size 1000x600 with 1 Axes>"
      ]
     },
     "metadata": {},
     "output_type": "display_data"
    }
   ],
   "source": [
    "import matplotlib.pyplot as plt\n",
    "\n",
    "plt.figure(figsize=(10, 6))\n",
    "plt.hist(numbers, bins=1000, edgecolor='black')\n",
    "plt.show()"
   ]
  },
  {
   "cell_type": "code",
   "execution_count": 6,
   "id": "ad24182e-2d03-4e25-ba2a-9ea056b632d9",
   "metadata": {},
   "outputs": [
    {
     "data": {
      "text/plain": [
       "3.886015303480832"
      ]
     },
     "execution_count": 6,
     "metadata": {},
     "output_type": "execute_result"
    }
   ],
   "source": []
  },
  {
   "cell_type": "code",
   "execution_count": 7,
   "id": "566993f3-ef25-452e-af05-3d51735a26d3",
   "metadata": {},
   "outputs": [],
   "source": []
  },
  {
   "cell_type": "code",
   "execution_count": 8,
   "id": "e2555d22-26a5-47c8-98ca-452ad0801a2e",
   "metadata": {},
   "outputs": [],
   "source": []
  },
  {
   "cell_type": "code",
   "execution_count": 16,
   "id": "b9e00e0d-5f01-40e8-a0ea-d796ebe64cfc",
   "metadata": {},
   "outputs": [
    {
     "data": {
      "text/plain": [
       "0.035876150840141285"
      ]
     },
     "execution_count": 16,
     "metadata": {},
     "output_type": "execute_result"
    }
   ],
   "source": []
  },
  {
   "cell_type": "code",
   "execution_count": 12,
   "id": "e88c55d9-b611-4ba6-862c-767098c9ecf7",
   "metadata": {},
   "outputs": [
    {
     "data": {
      "text/plain": [
       "-0.6889249421341676"
      ]
     },
     "execution_count": 12,
     "metadata": {},
     "output_type": "execute_result"
    }
   ],
   "source": [
    "mean"
   ]
  },
  {
   "cell_type": "code",
   "execution_count": null,
   "id": "695b3385-0fff-47a7-8282-c4b6b1dd9778",
   "metadata": {},
   "outputs": [],
   "source": []
  },
  {
   "cell_type": "code",
   "execution_count": null,
   "id": "51c36c76-a061-490e-83ec-c9007522ab00",
   "metadata": {},
   "outputs": [],
   "source": []
  }
 ],
 "metadata": {
  "kernelspec": {
   "display_name": "Python 3 (ipykernel)",
   "language": "python",
   "name": "python3"
  },
  "language_info": {
   "codemirror_mode": {
    "name": "ipython",
    "version": 3
   },
   "file_extension": ".py",
   "mimetype": "text/x-python",
   "name": "python",
   "nbconvert_exporter": "python",
   "pygments_lexer": "ipython3",
   "version": "3.11.7"
  }
 },
 "nbformat": 4,
 "nbformat_minor": 5
}
